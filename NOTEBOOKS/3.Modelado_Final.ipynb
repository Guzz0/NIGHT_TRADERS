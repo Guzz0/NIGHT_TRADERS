{
  "nbformat": 4,
  "nbformat_minor": 0,
  "metadata": {
    "colab": {
      "provenance": [],
      "gpuType": "V100",
      "machine_shape": "hm"
    },
    "kernelspec": {
      "name": "python3",
      "display_name": "Python 3"
    },
    "language_info": {
      "name": "python"
    },
    "gpuClass": "standard",
    "accelerator": "GPU"
  },
  "cells": [
    {
      "cell_type": "markdown",
      "source": [
        "NOTEBOOK 3BIS: MODELADO MEDIANTE VOTING CLASSIFIER/ STACKING CLASSIFIER\n",
        "\n",
        "Trabajo fin de bootcamp\n",
        "\n",
        "**Night Traders:**\n",
        "\n",
        "<font color = \"blue\">Illari Alvarez-Gil, Andrés Guzzo, Dairon Andrés Benites, José Carlos Amo</font>"
      ],
      "metadata": {
        "id": "i0p9pTfEpG4z"
      }
    },
    {
      "cell_type": "markdown",
      "source": [
        "Evaluación de diferentes modelos y selección del mejor enfoque\n",
        "Durante el desarrollo de nuestro proyecto, llevamos a cabo pruebas con diversos modelos de aprendizaje automático para mejorar la predicción del cierre de huecos nocturnos bursátiles. Entre los modelos probados se encuentran redes neuronales convolucionales (CNN), Random Forest, Gradient Boosting y otros.\n",
        "\n",
        "Después de realizar una exhaustiva comparación entre estos modelos, analizando su precisión, capacidad de generalización y tiempos de entrenamiento, hemos concluido que el enfoque que nos brinda los mejores resultados es el uso de un modelo de ensamble llamado Stacking Classifier.\n",
        "\n",
        "El Stacking Classifier combina las predicciones de múltiples modelos base para generar un nuevo conjunto de datos, y luego entrena un modelo de meta-aprendizaje en estos datos. Esto nos permite aprovechar las fortalezas de cada uno de los modelos individuales y obtener una mejora en el rendimiento general.\n",
        "\n",
        "Una vez seleccionado el modelo de Stacking Classifier como nuestro enfoque óptimo, lo aplicamos al conjunto de datos final para realizar nuestras predicciones. Este conjunto de datos está compuesto por los últimos 30 días de movimientos bursátiles, lo que nos permite obtener una visión actualizada y relevante del mercado.\n",
        "\n",
        "Al aplicar nuestro modelo de Stacking Classifier en este data frame objetivo, podemos generar predicciones sobre el cierre de huecos nocturnos bursátiles para los próximos días, lo que nos brinda información valiosa para la toma de decisiones en el ámbito financiero y bursátil."
      ],
      "metadata": {
        "id": "cvb-tfC-n-i-"
      }
    },
    {
      "cell_type": "code",
      "source": [
        "!pip install scikit-plot\n",
        "!pip install eli5\n",
        "!pip install scikit-optimize\n",
        "\n",
        "import numpy as np\n",
        "import pandas as pd\n",
        "import statsmodels.api as sm\n",
        "import matplotlib.pyplot as plt\n",
        "import multiprocessing\n",
        "import warnings\n",
        "\n",
        "from sklearn.preprocessing import MinMaxScaler, OneHotEncoder, StandardScaler\n",
        "from sklearn.ensemble import GradientBoostingClassifier, RandomForestClassifier, StackingClassifier\n",
        "from sklearn.decomposition import PCA\n",
        "from sklearn.metrics import (accuracy_score, classification_report, confusion_matrix, \n",
        "                             precision_recall_fscore_support, roc_auc_score, ConfusionMatrixDisplay)\n",
        "from sklearn.compose import ColumnTransformer\n",
        "from sklearn.model_selection import (cross_val_score, train_test_split, RepeatedKFold, GridSearchCV, \n",
        "                                     ParameterGrid, RandomizedSearchCV)\n",
        "from sklearn.inspection import permutation_importance\n",
        "from sklearn.linear_model import LogisticRegression\n",
        "from lightgbm import LGBMClassifier\n",
        "from sklearn.neighbors import KNeighborsClassifier\n",
        "from sklearn.svm import SVC\n",
        "from xgboost import XGBClassifier\n",
        "\n",
        "import scikitplot as skplt\n",
        "import eli5\n",
        "from eli5.sklearn import PermutationImportance\n",
        "\n",
        "from sklearn.pipeline import Pipeline\n",
        "\n",
        "from skopt import BayesSearchCV\n",
        "from skopt.space import Real, Integer, Categorical\n",
        "\n",
        "warnings.filterwarnings('ignore')\n",
        "\n",
        "\n"
      ],
      "metadata": {
        "id": "zsZWPYLzooBr",
        "colab": {
          "base_uri": "https://localhost:8080/"
        },
        "outputId": "eeeb34ef-8486-4df2-fa67-fd341afb7345"
      },
      "execution_count": 1,
      "outputs": [
        {
          "output_type": "stream",
          "name": "stdout",
          "text": [
            "Looking in indexes: https://pypi.org/simple, https://us-python.pkg.dev/colab-wheels/public/simple/\n",
            "Collecting scikit-plot\n",
            "  Downloading scikit_plot-0.3.7-py3-none-any.whl (33 kB)\n",
            "Requirement already satisfied: matplotlib>=1.4.0 in /usr/local/lib/python3.10/dist-packages (from scikit-plot) (3.7.1)\n",
            "Requirement already satisfied: scikit-learn>=0.18 in /usr/local/lib/python3.10/dist-packages (from scikit-plot) (1.2.2)\n",
            "Requirement already satisfied: scipy>=0.9 in /usr/local/lib/python3.10/dist-packages (from scikit-plot) (1.10.1)\n",
            "Requirement already satisfied: joblib>=0.10 in /usr/local/lib/python3.10/dist-packages (from scikit-plot) (1.2.0)\n",
            "Requirement already satisfied: contourpy>=1.0.1 in /usr/local/lib/python3.10/dist-packages (from matplotlib>=1.4.0->scikit-plot) (1.0.7)\n",
            "Requirement already satisfied: cycler>=0.10 in /usr/local/lib/python3.10/dist-packages (from matplotlib>=1.4.0->scikit-plot) (0.11.0)\n",
            "Requirement already satisfied: fonttools>=4.22.0 in /usr/local/lib/python3.10/dist-packages (from matplotlib>=1.4.0->scikit-plot) (4.39.3)\n",
            "Requirement already satisfied: kiwisolver>=1.0.1 in /usr/local/lib/python3.10/dist-packages (from matplotlib>=1.4.0->scikit-plot) (1.4.4)\n",
            "Requirement already satisfied: numpy>=1.20 in /usr/local/lib/python3.10/dist-packages (from matplotlib>=1.4.0->scikit-plot) (1.22.4)\n",
            "Requirement already satisfied: packaging>=20.0 in /usr/local/lib/python3.10/dist-packages (from matplotlib>=1.4.0->scikit-plot) (23.1)\n",
            "Requirement already satisfied: pillow>=6.2.0 in /usr/local/lib/python3.10/dist-packages (from matplotlib>=1.4.0->scikit-plot) (8.4.0)\n",
            "Requirement already satisfied: pyparsing>=2.3.1 in /usr/local/lib/python3.10/dist-packages (from matplotlib>=1.4.0->scikit-plot) (3.0.9)\n",
            "Requirement already satisfied: python-dateutil>=2.7 in /usr/local/lib/python3.10/dist-packages (from matplotlib>=1.4.0->scikit-plot) (2.8.2)\n",
            "Requirement already satisfied: threadpoolctl>=2.0.0 in /usr/local/lib/python3.10/dist-packages (from scikit-learn>=0.18->scikit-plot) (3.1.0)\n",
            "Requirement already satisfied: six>=1.5 in /usr/local/lib/python3.10/dist-packages (from python-dateutil>=2.7->matplotlib>=1.4.0->scikit-plot) (1.16.0)\n",
            "Installing collected packages: scikit-plot\n",
            "Successfully installed scikit-plot-0.3.7\n",
            "Looking in indexes: https://pypi.org/simple, https://us-python.pkg.dev/colab-wheels/public/simple/\n",
            "Collecting eli5\n",
            "  Downloading eli5-0.13.0.tar.gz (216 kB)\n",
            "\u001b[2K     \u001b[90m━━━━━━━━━━━━━━━━━━━━━━━━━━━━━━━━━━━━━━\u001b[0m \u001b[32m216.2/216.2 kB\u001b[0m \u001b[31m11.6 MB/s\u001b[0m eta \u001b[36m0:00:00\u001b[0m\n",
            "\u001b[?25h  Preparing metadata (setup.py) ... \u001b[?25l\u001b[?25hdone\n",
            "Requirement already satisfied: attrs>17.1.0 in /usr/local/lib/python3.10/dist-packages (from eli5) (23.1.0)\n",
            "Requirement already satisfied: jinja2>=3.0.0 in /usr/local/lib/python3.10/dist-packages (from eli5) (3.1.2)\n",
            "Requirement already satisfied: numpy>=1.9.0 in /usr/local/lib/python3.10/dist-packages (from eli5) (1.22.4)\n",
            "Requirement already satisfied: scipy in /usr/local/lib/python3.10/dist-packages (from eli5) (1.10.1)\n",
            "Requirement already satisfied: six in /usr/local/lib/python3.10/dist-packages (from eli5) (1.16.0)\n",
            "Requirement already satisfied: scikit-learn>=0.20 in /usr/local/lib/python3.10/dist-packages (from eli5) (1.2.2)\n",
            "Requirement already satisfied: graphviz in /usr/local/lib/python3.10/dist-packages (from eli5) (0.20.1)\n",
            "Requirement already satisfied: tabulate>=0.7.7 in /usr/local/lib/python3.10/dist-packages (from eli5) (0.8.10)\n",
            "Requirement already satisfied: MarkupSafe>=2.0 in /usr/local/lib/python3.10/dist-packages (from jinja2>=3.0.0->eli5) (2.1.2)\n",
            "Requirement already satisfied: joblib>=1.1.1 in /usr/local/lib/python3.10/dist-packages (from scikit-learn>=0.20->eli5) (1.2.0)\n",
            "Requirement already satisfied: threadpoolctl>=2.0.0 in /usr/local/lib/python3.10/dist-packages (from scikit-learn>=0.20->eli5) (3.1.0)\n",
            "Building wheels for collected packages: eli5\n",
            "  Building wheel for eli5 (setup.py) ... \u001b[?25l\u001b[?25hdone\n",
            "  Created wheel for eli5: filename=eli5-0.13.0-py2.py3-none-any.whl size=107730 sha256=45ff1e0c92d8d766146226ca15502b37126f82dd17c226cebc384269a971f3d8\n",
            "  Stored in directory: /root/.cache/pip/wheels/b8/58/ef/2cf4c306898c2338d51540e0922c8e0d6028e07007085c0004\n",
            "Successfully built eli5\n",
            "Installing collected packages: eli5\n",
            "Successfully installed eli5-0.13.0\n",
            "Looking in indexes: https://pypi.org/simple, https://us-python.pkg.dev/colab-wheels/public/simple/\n",
            "Collecting scikit-optimize\n",
            "  Downloading scikit_optimize-0.9.0-py2.py3-none-any.whl (100 kB)\n",
            "\u001b[2K     \u001b[90m━━━━━━━━━━━━━━━━━━━━━━━━━━━━━━━━━━━━━━━\u001b[0m \u001b[32m100.3/100.3 kB\u001b[0m \u001b[31m8.9 MB/s\u001b[0m eta \u001b[36m0:00:00\u001b[0m\n",
            "\u001b[?25hRequirement already satisfied: joblib>=0.11 in /usr/local/lib/python3.10/dist-packages (from scikit-optimize) (1.2.0)\n",
            "Collecting pyaml>=16.9 (from scikit-optimize)\n",
            "  Downloading pyaml-23.5.8-py3-none-any.whl (17 kB)\n",
            "Requirement already satisfied: numpy>=1.13.3 in /usr/local/lib/python3.10/dist-packages (from scikit-optimize) (1.22.4)\n",
            "Requirement already satisfied: scipy>=0.19.1 in /usr/local/lib/python3.10/dist-packages (from scikit-optimize) (1.10.1)\n",
            "Requirement already satisfied: scikit-learn>=0.20.0 in /usr/local/lib/python3.10/dist-packages (from scikit-optimize) (1.2.2)\n",
            "Requirement already satisfied: PyYAML in /usr/local/lib/python3.10/dist-packages (from pyaml>=16.9->scikit-optimize) (6.0)\n",
            "Requirement already satisfied: threadpoolctl>=2.0.0 in /usr/local/lib/python3.10/dist-packages (from scikit-learn>=0.20.0->scikit-optimize) (3.1.0)\n",
            "Installing collected packages: pyaml, scikit-optimize\n",
            "Successfully installed pyaml-23.5.8 scikit-optimize-0.9.0\n"
          ]
        }
      ]
    },
    {
      "cell_type": "code",
      "source": [
        "# Cargar el dataset de train y reindexarlo\n",
        "df_train = pd.read_csv('./train_preprocesado.csv', sep=',', decimal='.')\n",
        "df_train = df_train.reset_index(drop=True)\n",
        "\n",
        "# Cargar el dataset de test y reindexarlo\n",
        "df_test = pd.read_csv('./test_preprocesado.csv', sep=',', decimal='.')\n",
        "df_test = df_test.reset_index(drop=True)\n",
        "\n",
        "# Cargar el dataset de validacion\n",
        "df_validation = pd.read_csv('./validation_preprocesado.csv', sep=',', decimal='.')\n",
        "df_validation = df_validation.reset_index(drop=True)\n",
        "print(f'Dimensiones del dataset de training: {df_train.shape}')\n",
        "print(f'Dimensiones del dataset de test: {df_test.shape}')\n",
        "print(f'Dimensiones del dataset de validacion: {df_validation.shape}')\n",
        "\n",
        "pd.options.display.max_rows = len(df_train)  # Para que muestre los listados completos a partir de aquí"
      ],
      "metadata": {
        "id": "ECgm-ujloseJ",
        "colab": {
          "base_uri": "https://localhost:8080/"
        },
        "outputId": "162a131a-e4b8-4470-b5eb-390b07b004cc"
      },
      "execution_count": 2,
      "outputs": [
        {
          "output_type": "stream",
          "name": "stdout",
          "text": [
            "Dimensiones del dataset de training: (20362, 68)\n",
            "Dimensiones del dataset de test: (4826, 68)\n",
            "Dimensiones del dataset de validacion: (2092, 68)\n"
          ]
        }
      ]
    },
    {
      "cell_type": "code",
      "source": [
        "# Escalar los datos de train\n",
        "# Seleccionar la etiqueta\n",
        "y_train = df_train.loc[:, 'CLOSURE']\n",
        "# Seleccionar las características y excluir la etiqueta\n",
        "X_train = df_train.drop('CLOSURE', axis=1)\n",
        "# Escalar las características\n",
        "scaler = MinMaxScaler() # AQUI SE DEFINE EL SCALER\n",
        "X_train = scaler.fit_transform(X_train)\n",
        "\n",
        "# Escalar los datos de test usando el mismo scaler\n",
        "# Seleccionar la etiqueta\n",
        "y_test = df_test.loc[:, 'CLOSURE']\n",
        "# Seleccionar las características y excluir la etiqueta\n",
        "X_test = df_test.drop('CLOSURE', axis=1)\n",
        "# Escalar las características utilizando el mismo scaler que se ajustó en el conjunto de datos de entrenamiento\n",
        "X_test = scaler.transform(X_test)\n",
        "\n",
        "# Escalar los datos de test usando el mismo scaler\n",
        "# Seleccionar la etiqueta\n",
        "Y_validation = df_validation.loc[:, 'CLOSURE']\n",
        "# Seleccionar las características y excluir la etiqueta\n",
        "X_validation = df_validation.drop('CLOSURE', axis=1)\n",
        "# Escalar las características utilizando el mismo scaler que se ajustó en el conjunto de datos de entrenamiento\n",
        "X_validation = scaler.transform(X_validation)"
      ],
      "metadata": {
        "id": "Lge3zt2-oxQC"
      },
      "execution_count": 3,
      "outputs": []
    },
    {
      "cell_type": "code",
      "source": [
        "#  Comprobacion\n",
        "# Calcular la media y la desviación estándar de los datos normalizados\n",
        "mean = np.mean(X_train)\n",
        "std = np.std(X_train)\n",
        "\n",
        "# Definir un rango de valores normales\n",
        "lower_bound = mean - 3 * std\n",
        "upper_bound = mean + 3 * std\n",
        "\n",
        "# Contar cuántos valores están fuera de este rango en train\n",
        "outliers = np.sum((X_train < lower_bound) | (X_train > upper_bound))\n",
        "print(f\"Número de valores atípicos en X_train: {outliers}\")\n",
        "\n",
        "# Contar cuántos valores están fuera de este rango en test\n",
        "outliers = np.sum((X_test < lower_bound) | (X_test > upper_bound))\n",
        "print(f\"Número de valores atípicos en X_test: {outliers}\")\n",
        "\n",
        "# Contar cuántos valores están fuera de este rango en validation\n",
        "outliers = np.sum((X_validation < lower_bound) | (X_validation > upper_bound))\n",
        "print(f\"Número de valores atípicos en X_validation: {outliers}\")"
      ],
      "metadata": {
        "colab": {
          "base_uri": "https://localhost:8080/"
        },
        "id": "4NMkvv-ho7Oh",
        "outputId": "defd6f90-5976-43f1-f2dc-99393a086f1d"
      },
      "execution_count": 4,
      "outputs": [
        {
          "output_type": "stream",
          "name": "stdout",
          "text": [
            "Número de valores atípicos en X_train: 0\n",
            "Número de valores atípicos en X_test: 4\n",
            "Número de valores atípicos en X_validation: 0\n"
          ]
        }
      ]
    },
    {
      "cell_type": "markdown",
      "source": [
        "**Una vez preparados los conjuntos de datos empezamos con el modelado.**"
      ],
      "metadata": {
        "id": "9BVpLA6q3Ytm"
      }
    },
    {
      "cell_type": "markdown",
      "source": [
        "**Hemos elegido desarrollar un modelo de Voting Classifier que combina varios modelos para abordar nuestro problema de clasificación binaria por varias razones:**\n",
        "\n",
        "**-Alta precisión de predicción:** Los modelos de Voting Classifier combinan las fortalezas de varios modelos individuales, lo que puede resultar en un alto rendimiento en términos de precisión de predicción para problemas de clasificación binaria. Esto permite capturar patrones y relaciones complejas entre las variables predictoras y la variable objetivo.\n",
        "\n",
        "**-Robustez ante datos ruidosos y faltantes:** dado que el Voting Classifier integra múltiples modelos, es capaz de manejar datos ruidosos y faltantes de manera efectiva. La diversidad de los modelos subyacentes puede ayudar a compensar las debilidades de los modelos individuales, lo que resulta en un enfoque más robusto en comparación con el uso de un solo modelo de aprendizaje automático.\n",
        "\n",
        "**-Interpretación de los resultados:** Aunque el Voting Classifier en sí mismo no proporciona directamente información sobre la importancia relativa de cada variable, al utilizar modelos que pueden hacerlo (como Gradient Boosting o Random Forest), es posible obtener una idea de cómo se relacionan las variables con la variable objetivo y qué variables son las más importantes para la predicción.\n",
        "\n",
        "**-Escalabilidad:** Los modelos de Voting Classifier son escalables y pueden manejar grandes conjuntos de datos de manera eficiente. Además, estos modelos pueden beneficiarse de la paralelización, lo que significa que los modelos subyacentes pueden entrenarse en paralelo para acelerar el tiempo de entrenamiento."
      ],
      "metadata": {
        "id": "YF6gOcmS3fJ2"
      }
    },
    {
      "cell_type": "markdown",
      "source": [
        "El código y las herramientas que utilizamos aquí tienen como objetivo mejorar la precisión de un modelo de clasificación. A través de la búsqueda de hiperparámetros y el uso de técnicas de ensamblaje, tratamos de mejorar el rendimiento del modelo. En concreto, se realizan las siguientes acciones:\n",
        "\n",
        "1.Identificar los mejores hiperparámetros para diferentes modelos de clasificación, como RandomForestClassifier, LogisticRegression, LGBMClassifier, KNeighborsClassifier y SVC, utilizando GridSearchCV y RandomizedSearchCV.\n",
        "\n",
        "2.Crear un VotingClassifier, que es un ensamblaje de clasificadores, utilizando los modelos individuales ajustados con los mejores hiperparámetros encontrados en el paso anterior.\n",
        "\n",
        "3.Utilizar técnicas de optimización bayesiana para ajustar los hiperparámetros del XGBoostClassifier, a través de la biblioteca scikit-optimize y su función BayesSearchCV.\n",
        "\n",
        "4.Crear un StackingClassifier, que es otro tipo de ensamblaje de clasificadores, utilizando el XGBoostClassifier optimizado junto con otros modelos individuales.\n",
        "\n",
        "5.Evaluar y comparar el rendimiento de los diferentes enfoques de ensamblaje y modelos individuales utilizando la precisión (accuracy) como métrica de evaluación.\n",
        "\n",
        "El objetivo de utilizar estos métodos y herramientas es identificar y combinar modelos que, al trabajar juntos, puedan mejorar el rendimiento general del modelo final. Esto puede resultar en una mayor precisión en la clasificación y, en última instancia, en una mejor solución para el problema en cuestión.\n",
        "\n",
        "\n",
        "\n",
        "\n"
      ],
      "metadata": {
        "id": "uRQyLmX-2iaS"
      }
    },
    {
      "cell_type": "markdown",
      "source": [
        "**Estos son nuestros rangos de hiperparámetros para cada modelo:**"
      ],
      "metadata": {
        "id": "3YDp0LRtr25R"
      }
    },
    {
      "cell_type": "code",
      "source": [
        "# Hiperparámetros de RandomForest\n",
        "rf_params = {\n",
        "    'n_estimators': [10, 50, 100, 200],\n",
        "    'max_depth': [None, 10, 20, 30],\n",
        "    'min_samples_split': [2, 5, 10],\n",
        "    'min_samples_leaf': [1, 2, 4]\n",
        "}\n",
        "\n",
        "# Hiperparámetros de LogisticRegression\n",
        "lr_params = {\n",
        "    'penalty': ['l1', 'l2'],\n",
        "    'C': [0.001, 0.01, 0.1, 1, 10],\n",
        "    'solver': ['liblinear']\n",
        "}\n",
        "\n",
        "# Hiperparámetros de LGBMClassifier\n",
        "lgbm_params = {\n",
        "    'learning_rate': [0.01, 0.1, 0.2],\n",
        "    'n_estimators': [20, 40, 60, 80, 100],\n",
        "    'num_leaves': [15, 31, 63],\n",
        "    'min_child_samples': [10, 20, 30]\n",
        "}\n",
        "\n",
        "# Hiperparámetros de KNeighborsClassifier\n",
        "knn_params = {\n",
        "    'n_neighbors': [3, 5, 7, 9, 11],\n",
        "    'weights': ['uniform', 'distance']\n",
        "}\n",
        "\n",
        "# Hiperparámetros de XGBClassifier\n",
        "xgb_params = {\n",
        "    'n_estimators': Integer(10, 200),\n",
        "    'learning_rate': Real(0.01, 0.2, 'log-uniform'),\n",
        "    'max_depth': Integer(3, 10),\n",
        "    'min_child_weight': Integer(1, 10),\n",
        "    'subsample': Real(0.5, 1.0),\n",
        "    'colsample_bytree': Real(0.5, 1.0)\n",
        "}\n",
        "\n"
      ],
      "metadata": {
        "id": "4StvgKn-By-U"
      },
      "execution_count": 20,
      "outputs": []
    },
    {
      "cell_type": "markdown",
      "source": [
        "El siguiente paso sera buscar los mejores hiperparámetros de diferentes modelos de aprendizaje automático, usando la técnica de búsqueda Bayesiana. \n",
        "\n",
        "La búsqueda se realiza utilizando la validación cruzada y el criterio de evaluación es la precisión (accuracy). Se utilizan cinco modelos diferentes: RandomForest, LogisticRegression, LGBMClassifier, KNeighborsClassifier y XGBClassifier.\n",
        "\n",
        " La técnica de búsqueda Bayesiana es útil porque utiliza información previa para guiar la búsqueda de hiperparámetros, lo que a menudo conduce a una búsqueda más eficiente y efectiva en comparación con la búsqueda aleatoria. "
      ],
      "metadata": {
        "id": "V3O3jIQQOnAm"
      }
    },
    {
      "cell_type": "code",
      "source": [
        "\n",
        "# Búsqueda de hiperparámetros de RandomForest\n",
        "rf = RandomForestClassifier(random_state=42)\n",
        "rf_search = BayesSearchCV(rf, rf_params, n_iter=20, cv=5, scoring='accuracy', n_jobs=-1, random_state=42)\n",
        "rf_search.fit(X_validation, Y_validation)\n",
        "print(\"Mejores hiperparámetros de RandomForest:\", rf_search.best_params_)\n",
        "\n",
        "# Búsqueda de hiperparámetros de LogisticRegression\n",
        "lr = LogisticRegression(random_state=42)\n",
        "lr_search = BayesSearchCV(lr, lr_params, n_iter=20, cv=5, scoring='accuracy', n_jobs=-1, random_state=42)\n",
        "lr_search.fit(X_validation, Y_validation)\n",
        "print(\"Mejores hiperparámetros de LogisticRegression:\", lr_search.best_params_)\n",
        "\n",
        "# Búsqueda de hiperparámetros de LGBMClassifier\n",
        "lgbm = LGBMClassifier(random_state=42)\n",
        "lgbm_search = BayesSearchCV(lgbm, lgbm_params, n_iter=20, cv=5, scoring='accuracy', n_jobs=-1, random_state=42)\n",
        "lgbm_search.fit(X_validation, Y_validation)\n",
        "print(\"Mejores hiperparámetros de LGBMClassifier:\", lgbm_search.best_params_)\n",
        "\n",
        "# Búsqueda de hiperparámetros de KNeighborsClassifier\n",
        "knn = KNeighborsClassifier()\n",
        "knn_search = BayesSearchCV(knn, knn_params, n_iter=20, cv=5, scoring='accuracy', n_jobs=-1, random_state=42)\n",
        "knn_search.fit(X_validation, Y_validation)\n",
        "print(\"Mejores hiperparámetros de KNeighborsClassifier:\", knn_search.best_params_)\n",
        "\n",
        "# Búsqueda de hiperparámetros de XGBClassifier\n",
        "xgb = XGBClassifier(random_state=42)\n",
        "xgb_search = BayesSearchCV(xgb, xgb_params, n_iter=20, cv=5, scoring='accuracy', n_jobs=-1, random_state=42)\n",
        "xgb_search.fit(X_validation, Y_validation)\n",
        "print(\"Mejores hiperparámetros de XGBClassifier:\", xgb_search.best_params_)"
      ],
      "metadata": {
        "colab": {
          "base_uri": "https://localhost:8080/"
        },
        "id": "ad0DdWkdHwiG",
        "outputId": "eabe7c95-cced-45cc-94d5-15c45a5fd8a7"
      },
      "execution_count": 21,
      "outputs": [
        {
          "output_type": "stream",
          "name": "stdout",
          "text": [
            "Mejores hiperparámetros de RandomForest: OrderedDict([('max_depth', 20), ('min_samples_leaf', 2), ('min_samples_split', 5), ('n_estimators', 100)])\n",
            "Mejores hiperparámetros de LogisticRegression: OrderedDict([('C', 10.0), ('penalty', 'l1'), ('solver', 'liblinear')])\n",
            "Mejores hiperparámetros de LGBMClassifier: OrderedDict([('learning_rate', 0.1), ('min_child_samples', 10), ('n_estimators', 60), ('num_leaves', 31)])\n",
            "Mejores hiperparámetros de KNeighborsClassifier: OrderedDict([('n_neighbors', 11), ('weights', 'uniform')])\n",
            "Mejores hiperparámetros de XGBClassifier: OrderedDict([('colsample_bytree', 1.0), ('learning_rate', 0.01), ('max_depth', 7), ('min_child_weight', 1), ('n_estimators', 143), ('subsample', 0.5)])\n"
          ]
        }
      ]
    },
    {
      "cell_type": "markdown",
      "source": [
        "**los mejores valores por modelo son:**\n",
        "\n",
        "\n"
      ],
      "metadata": {
        "id": "MVqLlW2jsDDJ"
      }
    },
    {
      "cell_type": "code",
      "source": [
        "from sklearn.ensemble import StackingClassifier\n",
        "\n",
        "# Crear instancias de los modelos individuales con los mejores , estos hiperparametros son el resultado anterior\n",
        "\n",
        "# For XGBClassifier\n",
        "xgb = XGBClassifier(colsample_bytree=0.7224162561505759, learning_rate=0.15677815829096733, max_depth=4, min_child_weight=5, n_estimators=46, subsample=0.7268326719031495, random_state=42)\n",
        "\n",
        "# For RandomForestClassifier\n",
        "rf = RandomForestClassifier(n_estimators=100, min_samples_split=5, min_samples_leaf=2, max_depth=20, random_state=42)\n",
        "\n",
        "# For LogisticRegression\n",
        "lr = LogisticRegression(solver='liblinear', penalty='l1', C=10.0, random_state=42)\n",
        "\n",
        "# For LGBMClassifier\n",
        "lgbm = LGBMClassifier(num_leaves=31, n_estimators=60, min_child_samples=10, learning_rate=0.1, random_state=42)\n",
        "\n",
        "# For KNeighborsClassifier\n",
        "knn = KNeighborsClassifier(weights='uniform', n_neighbors=11)\n",
        "\n",
        "# Crear el Stacking Classifier\n",
        "stacking_clf = StackingClassifier(estimators=[('xgb', xgb), ('rf', rf), ('lr', lr), ('lgbm', lgbm), ('knn', knn)], final_estimator=LogisticRegression(), cv=5)\n",
        "\n",
        "# Entrenar el Stacking Classifier\n",
        "stacking_clf.fit(X_train, y_train)\n",
        "\n",
        "# Evaluar el rendimiento en el conjunto de prueba\n",
        "y_pred = stacking_clf.predict(X_test)\n",
        "accuracy = accuracy_score(y_test, y_pred)\n",
        "print(\"Stacking Classifier Accuracy:\", accuracy)\n"
      ],
      "metadata": {
        "colab": {
          "base_uri": "https://localhost:8080/",
          "height": 70
        },
        "id": "_Ynp_QyXI4nq",
        "outputId": "c275f390-173d-457d-81b0-7a5352361f8c"
      },
      "execution_count": 6,
      "outputs": [
        {
          "output_type": "execute_result",
          "data": {
            "text/plain": [
              "'# Entrenar el Stacking Classifier\\nstacking_clf.fit(X_train, y_train)\\n\\n# Evaluar el rendimiento en el conjunto de prueba\\ny_pred = stacking_clf.predict(X_test)\\naccuracy = accuracy_score(y_test, y_pred)\\nprint(\"Stacking Classifier Accuracy:\", accuracy)'"
            ],
            "application/vnd.google.colaboratory.intrinsic+json": {
              "type": "string"
            }
          },
          "metadata": {},
          "execution_count": 6
        }
      ]
    },
    {
      "cell_type": "code",
      "source": [
        "from sklearn.ensemble import VotingClassifier\n",
        "# Crear el Voting Classifier\n",
        "voting_clf = VotingClassifier(estimators=[('lgbm', lgbm), ('xgb', xgb), ('rf', rf), ('lr', lr), ('knn', knn)], voting='hard')\n",
        "\n",
        "# Entrenar el Voting Classifier\n",
        "voting_clf.fit(X_train, y_train)\n",
        "modelo1 = voting_clf.fit(X_train, y_train)\n",
        "# Evaluar el rendimiento en el conjunto de prueba\n",
        "y_pred_voting = voting_clf.predict(X_test)\n",
        "accuracy = accuracy_score(y_test, y_pred_voting)\n",
        "print(\"Voting Classifier Accuracy:\", accuracy)"
      ],
      "metadata": {
        "colab": {
          "base_uri": "https://localhost:8080/"
        },
        "id": "slrMO4_3C7O6",
        "outputId": "fa2bb352-e644-4a8c-cc60-f630c96213e3"
      },
      "execution_count": 7,
      "outputs": [
        {
          "output_type": "stream",
          "name": "stdout",
          "text": [
            "Voting Classifier Accuracy: 0.6811023622047244\n"
          ]
        }
      ]
    },
    {
      "cell_type": "markdown",
      "source": [
        "comparando con modelos de stacking y voting, se ve alguna mejora en el accuracy con el stacking pero el stacking tiene un modelo final(modelo meta) que le podemos buscar hiperparámetros especificos para este caso y ver si mejora nuestro accuracy."
      ],
      "metadata": {
        "id": "L_z6jCQAu0GC"
      }
    },
    {
      "cell_type": "code",
      "source": [
        "\n",
        "\n",
        "# Definir el espacio de búsqueda de hiperparámetros para el modelo meta\n",
        "meta_params = {\n",
        "    'penalty': ['l1', 'l2'],\n",
        "    'C': (1e-6, 1000.0, 'log-uniform'),\n",
        "    'fit_intercept': [True, False],\n",
        "    'solver': ['liblinear', 'saga']\n",
        "}\n",
        "\n",
        "# Crear el modelo meta con BayesSearchCV para la búsqueda de hiperparámetros\n",
        "meta_model = BayesSearchCV(LogisticRegression(random_state=42),\n",
        "                           meta_params,\n",
        "                           n_iter=10,\n",
        "                           cv=5,\n",
        "                           scoring='accuracy',\n",
        "                           n_jobs=-1,\n",
        "                           random_state=42)\n",
        "\n",
        "# Crear el Stacking Classifier con el modelo meta\n",
        "stacking_clf_meta = StackingClassifier(estimators=[('xgb', xgb), ('rf', rf), ('lr', lr), ('lgbm', lgbm), ('knn', knn)], final_estimator=meta_model, cv=5)\n",
        "\n",
        "# Entrenar el Stacking Classifier\n",
        "stacking_clf_meta.fit(X_train, y_train)\n",
        "\n",
        "# Evaluar el rendimiento en el conjunto de prueba\n",
        "y_pred = stacking_clf_meta.predict(X_test)\n",
        "accuracy_meta = accuracy_score(y_test, y_pred_meta)\n",
        "print(\"Stacking Classifier Accuracy:\", accuracy_meta)\n"
      ],
      "metadata": {
        "colab": {
          "base_uri": "https://localhost:8080/"
        },
        "id": "X4DtM1qSYi6l",
        "outputId": "c75ddd68-a5cd-4c6a-bee8-05adc2a9f46b"
      },
      "execution_count": 27,
      "outputs": [
        {
          "output_type": "stream",
          "name": "stdout",
          "text": [
            "Stacking Classifier Accuracy: 0.6817239950269374\n"
          ]
        }
      ]
    },
    {
      "cell_type": "markdown",
      "source": [
        "La seleccion del hiperparemtro de modelo metA no es una bueno opcion visto que nos baja el accuracy."
      ],
      "metadata": {
        "id": "N_FbczY7s7Hf"
      }
    },
    {
      "cell_type": "markdown",
      "source": [
        "AMBOS MODELOS TIENEN UNA GRAN SIMILITUD En SU ACCURACY. PROCEDEREMOS CON AMBOS MODELOS."
      ],
      "metadata": {
        "id": "3CYPMlP7ffmt"
      }
    },
    {
      "cell_type": "markdown",
      "source": [
        "**Vamos a representar la matriz de confusión.**"
      ],
      "metadata": {
        "id": "LxESCvVQl1MR"
      }
    },
    {
      "cell_type": "code",
      "source": [
        "# Matriz de confusión para Stacking Classifier\n",
        "y_pred_stacking = stacking_clf.predict(X_test)\n",
        "confusion_matrix_stacking = confusion_matrix(y_test, y_pred_stacking)\n",
        "ConfusionMatrixDisplay(confusion_matrix_stacking).plot()\n",
        "plt.title('Stacking Classifier Confusion Matrix')\n",
        "plt.show()\n",
        "\n",
        "# Matriz de confusión para Voting Classifier\n",
        "y_pred_voting = voting_clf.predict(X_test)\n",
        "confusion_matrix_voting = confusion_matrix(y_test, y_pred_voting)\n",
        "ConfusionMatrixDisplay(confusion_matrix_voting).plot()\n",
        "plt.title('Voting Classifier Confusion Matrix')\n",
        "plt.show()\n"
      ],
      "metadata": {
        "colab": {
          "base_uri": "https://localhost:8080/",
          "height": 927
        },
        "id": "nNllQfYjwFc8",
        "outputId": "fe08fd97-7ae6-4ff8-dd78-d6e427a60a9e"
      },
      "execution_count": 30,
      "outputs": [
        {
          "output_type": "display_data",
          "data": {
            "text/plain": [
              "<Figure size 640x480 with 2 Axes>"
            ],
            "image/png": "[encoded data removed]"
          },
          "metadata": {}
        },
        {
          "output_type": "display_data",
          "data": {
            "text/plain": [
              "<Figure size 640x480 with 2 Axes>"
            ],
            "image/png": "[encoded data removed]"
          },
          "metadata": {}
        }
      ]
    },
    {
      "cell_type": "code",
      "source": [
        "# Numericamente:\n",
        "tn, fp, fn, tp = confusion_matrix(y_test, y_pred).ravel()\n",
        "print(f'True Negative TN: {tn}, False Positive FP: {fp}, False Negative FN: {fn}, True Positive TP: {tp}')"
      ],
      "metadata": {
        "id": "qgFRDHm8vGEb",
        "colab": {
          "base_uri": "https://localhost:8080/"
        },
        "outputId": "71b1add7-51fe-4cc5-eb45-a79f78b0c120"
      },
      "execution_count": 31,
      "outputs": [
        {
          "output_type": "stream",
          "name": "stdout",
          "text": [
            "True Negative TN: 1589, False Positive FP: 824, False Negative FN: 712, True Positive TP: 1701\n"
          ]
        }
      ]
    },
    {
      "cell_type": "markdown",
      "source": [
        "**Vamos a evaluar el rendimiento mediante las curvas Lift y ROC.**\n",
        "\n",
        "**La curva de Lift representa la relación entre la tasa de verdaderos positivos (TPR) y la tasa de falsos positivos (FPR) a medida que se aumenta el umbral de clasificación en el modelo. **\n",
        "\n",
        "**En la curva Lift, el eje Y representa el Lift, que es la razón entre la tasa de verdaderos positivos (TPR) y la proporción de casos positivos en los datos (también conocido como prevalencia). El eje X representa la proporción acumulativa de los datos que se seleccionan como positivos a medida que se aumenta el umbral de clasificación en el modelo.**\n",
        "\n",
        "**En general, una curva Lift se considera buena si la curva de Lift está por encima de la línea de referencia, que representa la tasa de verdaderos positivos que se esperaría si se hiciera una selección aleatoria sin el uso del modelo.**\n",
        "\n",
        "**La curva ROC representa la relación entre la tasa de verdaderos positivos (TPR) y la tasa de falsos positivos (FPR) para cada umbral de clasificación posible en el modelo.**\n",
        "\n",
        "**En la curva ROC, el eje Y representa la Tasa de Verdaderos Positivos (TPR) y el eje X representa la Tasa de Falsos Positivos (FPR). Cada punto en la curva ROC representa el par (TPR, FPR) para un umbral de clasificación específico en el modelo.**\n",
        "\n",
        "**En general, una curva ROC se considera buena si la curva se acerca lo más posible al ángulo superior izquierdo del gráfico, que representa una tasa alta de verdaderos positivos y una tasa baja de falsos positivos. El área bajo la curva (AUC-ROC) se utiliza comúnmente como una métrica para evaluar el rendimiento general del modelo. Una AUC-ROC cercana a 1 indica un modelo con un rendimiento excelente, mientras que una AUC-ROC cercana a 0.5 indica un modelo que no tiene capacidad para discriminar entre las clases.**"
      ],
      "metadata": {
        "id": "wCR7MFmMB017"
      }
    },
    {
      "cell_type": "code",
      "source": [
        "# Curvas Lift y ROC\n",
        "prediction_of_probability_test = stacking_clf.predict_proba(X_test)\n",
        "\n",
        "fig, ax = plt.subplots(figsize=(4,3))\n",
        "skplt.metrics.plot_lift_curve(y_test, prediction_of_probability_test, ax=ax)\n",
        "plt.show()\n",
        "\n",
        "fig, ax = plt.subplots(figsize=(4,3))\n",
        "skplt.metrics.plot_cumulative_gain(y_test, prediction_of_probability_test, ax=ax)\n",
        "plt.show()\n",
        "\n"
      ],
      "metadata": {
        "id": "wminiIl6wsCA",
        "colab": {
          "base_uri": "https://localhost:8080/",
          "height": 649
        },
        "outputId": "a7aab8db-1d5e-45f3-81df-72c919af9184"
      },
      "execution_count": 32,
      "outputs": [
        {
          "output_type": "display_data",
          "data": {
            "text/plain": [
              "<Figure size 400x300 with 1 Axes>"
            ],
            "image/png": "[encoded data removed]"
          },
          "metadata": {}
        },
        {
          "output_type": "display_data",
          "data": {
            "text/plain": [
              "<Figure size 400x300 with 1 Axes>"
            ],
            "image/png": "[encoded data removed]"
          },
          "metadata": {}
        }
      ]
    },
    {
      "cell_type": "markdown",
      "source": [
        "**En el primer gráfico, como ambas curvas de lift están por encima de la línea base, esto indica que el modelo es efectivo en ambas clases. Sin embargo lo deseable sería que estuviera dibujada \"más arriba\".**"
      ],
      "metadata": {
        "id": "Q4KexSno5nRs"
      }
    },
    {
      "cell_type": "markdown",
      "source": [
        "**En el segundo gráfico, la diagonal etiquetada como \"Baseline\" es la línea de ganancia aleatoria (random gains line). Esta línea representa la cantidad de casos positivos que se esperarían identificar si se hiciera una selección aleatoria sin el uso del modelo.**\n",
        "\n",
        "**Como en ese segundo gráfico las curvas de ganancia acumulativa están por encima de la línea de ganancia aleatoria, significa que nuestro modelo es efectivo para identificar casos positivos**"
      ],
      "metadata": {
        "id": "SMMhmeXB8Emi"
      }
    },
    {
      "cell_type": "markdown",
      "source": [
        "## Ahora vamos a tratar de modelar las probabilidades de pertenencia a cada clase."
      ],
      "metadata": {
        "id": "GPX8S-KU9pua"
      }
    },
    {
      "cell_type": "code",
      "source": [
        "from sklearn.metrics import accuracy_score\n",
        "\n",
        "# Evaluar el rendimiento del modelo en el conjunto de prueba\n",
        "y_pred = voting_clf.predict(X_test_reducido)\n",
        "accuracy = accuracy_score(y_test, y_pred)\n",
        "print(\"Voting Classifier Accuracy:\", accuracy)\n"
      ],
      "metadata": {
        "id": "41u6wWHpiwwp",
        "colab": {
          "base_uri": "https://localhost:8080/",
          "height": 235
        },
        "outputId": "25add1e3-ea6c-46b4-9ac3-65cf9eda4993"
      },
      "execution_count": 33,
      "outputs": [
        {
          "output_type": "error",
          "ename": "NameError",
          "evalue": "ignored",
          "traceback": [
            "\u001b[0;31m---------------------------------------------------------------------------\u001b[0m",
            "\u001b[0;31mNameError\u001b[0m                                 Traceback (most recent call last)",
            "\u001b[0;32m<ipython-input-33-66e9fb30eea0>\u001b[0m in \u001b[0;36m<cell line: 4>\u001b[0;34m()\u001b[0m\n\u001b[1;32m      2\u001b[0m \u001b[0;34m\u001b[0m\u001b[0m\n\u001b[1;32m      3\u001b[0m \u001b[0;31m# Evaluar el rendimiento del modelo en el conjunto de prueba\u001b[0m\u001b[0;34m\u001b[0m\u001b[0;34m\u001b[0m\u001b[0m\n\u001b[0;32m----> 4\u001b[0;31m \u001b[0my_pred\u001b[0m \u001b[0;34m=\u001b[0m \u001b[0mvoting_clf\u001b[0m\u001b[0;34m.\u001b[0m\u001b[0mpredict\u001b[0m\u001b[0;34m(\u001b[0m\u001b[0mX_test_reducido\u001b[0m\u001b[0;34m)\u001b[0m\u001b[0;34m\u001b[0m\u001b[0;34m\u001b[0m\u001b[0m\n\u001b[0m\u001b[1;32m      5\u001b[0m \u001b[0maccuracy\u001b[0m \u001b[0;34m=\u001b[0m \u001b[0maccuracy_score\u001b[0m\u001b[0;34m(\u001b[0m\u001b[0my_test\u001b[0m\u001b[0;34m,\u001b[0m \u001b[0my_pred\u001b[0m\u001b[0;34m)\u001b[0m\u001b[0;34m\u001b[0m\u001b[0;34m\u001b[0m\u001b[0m\n\u001b[1;32m      6\u001b[0m \u001b[0mprint\u001b[0m\u001b[0;34m(\u001b[0m\u001b[0;34m\"Voting Classifier Accuracy:\"\u001b[0m\u001b[0;34m,\u001b[0m \u001b[0maccuracy\u001b[0m\u001b[0;34m)\u001b[0m\u001b[0;34m\u001b[0m\u001b[0;34m\u001b[0m\u001b[0m\n",
            "\u001b[0;31mNameError\u001b[0m: name 'X_test_reducido' is not defined"
          ]
        }
      ]
    },
    {
      "cell_type": "markdown",
      "source": [
        "**Vamos a tratar de modelar las probabilidades de pertenencia a cada clase.**\n",
        "**En nuestro modelo, al aplicar '.predict()' se devuelve 1 (el gap se cierra en el mismo día) o 0 (el gap no se cierra en el mismo día) para cada observación de test. Sin embargo, no se dispone de ningún tipo de información sobre la seguridad con la que el modelo realiza esta asignación.**\n",
        "\n",
        "**En cambio, con '.predict_proba()' lo que se obtiene es la probabilidad de que cada observación pueda, segíun el modelo, pertenecer a cada una de las clases.**"
      ],
      "metadata": {
        "id": "VlD_QGHM8-OM"
      }
    },
    {
      "cell_type": "markdown",
      "source": [
        "nota: para ver la probabilidad de pertenencia a cada clase, se usa la función '.predict_proba()'. La cual funciona solo con el modelo stacking.\n",
        "\n",
        "\n",
        "El modelo voting  se configuró para realizar votación 'hard', lo que significa que solo se considera la clase predicha más frecuente por los clasificadores base. En este caso, no es posible obtener las probabilidades de predicción."
      ],
      "metadata": {
        "id": "_-BPSLiJj7Sm"
      }
    },
    {
      "cell_type": "code",
      "source": [
        "# Predicción de probabilidades\n",
        "modelo_final = stacking_clf\n",
        "predicciones = modelo_final.predict_proba(X = X_test)\n",
        "predicciones[:5, :]\n",
        "\n",
        "# Clasificación empleando la clase más probable\n",
        "df_predicciones = pd.DataFrame(data=predicciones, columns=['0', '1'])\n",
        "df_predicciones['clasificacion_default_0.5'] = np.where(df_predicciones['0'] > df_predicciones['1'], 0, 1)\n",
        "df_predicciones.head(10)"
      ],
      "metadata": {
        "colab": {
          "base_uri": "https://localhost:8080/",
          "height": 363
        },
        "id": "-ODua9AeA5xH",
        "outputId": "38ba4b34-5224-4fe5-ea9f-1036af699369"
      },
      "execution_count": 34,
      "outputs": [
        {
          "output_type": "execute_result",
          "data": {
            "text/plain": [
              "          0         1  clasificacion_default_0.5\n",
              "0  0.284231  0.715769                          1\n",
              "1  0.386967  0.613033                          1\n",
              "2  0.280394  0.719606                          1\n",
              "3  0.524577  0.475423                          0\n",
              "4  0.750929  0.249071                          0\n",
              "5  0.387447  0.612553                          1\n",
              "6  0.293665  0.706335                          1\n",
              "7  0.303659  0.696341                          1\n",
              "8  0.524202  0.475798                          0\n",
              "9  0.582041  0.417959                          0"
            ],
            "text/html": [
              "\n",
              "  <div id=\"df-b083ffd6-fafe-4f9b-8b1b-d356f2342749\">\n",
              "    <div class=\"colab-df-container\">\n",
              "      <div>\n",
              "<style scoped>\n",
              "    .dataframe tbody tr th:only-of-type {\n",
              "        vertical-align: middle;\n",
              "    }\n",
              "\n",
              "    .dataframe tbody tr th {\n",
              "        vertical-align: top;\n",
              "    }\n",
              "\n",
              "    .dataframe thead th {\n",
              "        text-align: right;\n",
              "    }\n",
              "</style>\n",
              "<table border=\"1\" class=\"dataframe\">\n",
              "  <thead>\n",
              "    <tr style=\"text-align: right;\">\n",
              "      <th></th>\n",
              "      <th>0</th>\n",
              "      <th>1</th>\n",
              "      <th>clasificacion_default_0.5</th>\n",
              "    </tr>\n",
              "  </thead>\n",
              "  <tbody>\n",
              "    <tr>\n",
              "      <th>0</th>\n",
              "      <td>0.284231</td>\n",
              "      <td>0.715769</td>\n",
              "      <td>1</td>\n",
              "    </tr>\n",
              "    <tr>\n",
              "      <th>1</th>\n",
              "      <td>0.386967</td>\n",
              "      <td>0.613033</td>\n",
              "      <td>1</td>\n",
              "    </tr>\n",
              "    <tr>\n",
              "      <th>2</th>\n",
              "      <td>0.280394</td>\n",
              "      <td>0.719606</td>\n",
              "      <td>1</td>\n",
              "    </tr>\n",
              "    <tr>\n",
              "      <th>3</th>\n",
              "      <td>0.524577</td>\n",
              "      <td>0.475423</td>\n",
              "      <td>0</td>\n",
              "    </tr>\n",
              "    <tr>\n",
              "      <th>4</th>\n",
              "      <td>0.750929</td>\n",
              "      <td>0.249071</td>\n",
              "      <td>0</td>\n",
              "    </tr>\n",
              "    <tr>\n",
              "      <th>5</th>\n",
              "      <td>0.387447</td>\n",
              "      <td>0.612553</td>\n",
              "      <td>1</td>\n",
              "    </tr>\n",
              "    <tr>\n",
              "      <th>6</th>\n",
              "      <td>0.293665</td>\n",
              "      <td>0.706335</td>\n",
              "      <td>1</td>\n",
              "    </tr>\n",
              "    <tr>\n",
              "      <th>7</th>\n",
              "      <td>0.303659</td>\n",
              "      <td>0.696341</td>\n",
              "      <td>1</td>\n",
              "    </tr>\n",
              "    <tr>\n",
              "      <th>8</th>\n",
              "      <td>0.524202</td>\n",
              "      <td>0.475798</td>\n",
              "      <td>0</td>\n",
              "    </tr>\n",
              "    <tr>\n",
              "      <th>9</th>\n",
              "      <td>0.582041</td>\n",
              "      <td>0.417959</td>\n",
              "      <td>0</td>\n",
              "    </tr>\n",
              "  </tbody>\n",
              "</table>\n",
              "</div>\n",
              "      <button class=\"colab-df-convert\" onclick=\"convertToInteractive('df-b083ffd6-fafe-4f9b-8b1b-d356f2342749')\"\n",
              "              title=\"Convert this dataframe to an interactive table.\"\n",
              "              style=\"display:none;\">\n",
              "        \n",
              "  <svg xmlns=\"http://www.w3.org/2000/svg\" height=\"24px\"viewBox=\"0 0 24 24\"\n",
              "       width=\"24px\">\n",
              "    <path d=\"M0 0h24v24H0V0z\" fill=\"none\"/>\n",
              "    <path d=\"M18.56 5.44l.94 2.06.94-2.06 2.06-.94-2.06-.94-.94-2.06-.94 2.06-2.06.94zm-11 1L8.5 8.5l.94-2.06 2.06-.94-2.06-.94L8.5 2.5l-.94 2.06-2.06.94zm10 10l.94 2.06.94-2.06 2.06-.94-2.06-.94-.94-2.06-.94 2.06-2.06.94z\"/><path d=\"M17.41 7.96l-1.37-1.37c-.4-.4-.92-.59-1.43-.59-.52 0-1.04.2-1.43.59L10.3 9.45l-7.72 7.72c-.78.78-.78 2.05 0 2.83L4 21.41c.39.39.9.59 1.41.59.51 0 1.02-.2 1.41-.59l7.78-7.78 2.81-2.81c.8-.78.8-2.07 0-2.86zM5.41 20L4 18.59l7.72-7.72 1.47 1.35L5.41 20z\"/>\n",
              "  </svg>\n",
              "      </button>\n",
              "      \n",
              "  <style>\n",
              "    .colab-df-container {\n",
              "      display:flex;\n",
              "      flex-wrap:wrap;\n",
              "      gap: 12px;\n",
              "    }\n",
              "\n",
              "    .colab-df-convert {\n",
              "      background-color: #E8F0FE;\n",
              "      border: none;\n",
              "      border-radius: 50%;\n",
              "      cursor: pointer;\n",
              "      display: none;\n",
              "      fill: #1967D2;\n",
              "      height: 32px;\n",
              "      padding: 0 0 0 0;\n",
              "      width: 32px;\n",
              "    }\n",
              "\n",
              "    .colab-df-convert:hover {\n",
              "      background-color: #E2EBFA;\n",
              "      box-shadow: 0px 1px 2px rgba(60, 64, 67, 0.3), 0px 1px 3px 1px rgba(60, 64, 67, 0.15);\n",
              "      fill: #174EA6;\n",
              "    }\n",
              "\n",
              "    [theme=dark] .colab-df-convert {\n",
              "      background-color: #3B4455;\n",
              "      fill: #D2E3FC;\n",
              "    }\n",
              "\n",
              "    [theme=dark] .colab-df-convert:hover {\n",
              "      background-color: #434B5C;\n",
              "      box-shadow: 0px 1px 3px 1px rgba(0, 0, 0, 0.15);\n",
              "      filter: drop-shadow(0px 1px 2px rgba(0, 0, 0, 0.3));\n",
              "      fill: #FFFFFF;\n",
              "    }\n",
              "  </style>\n",
              "\n",
              "      <script>\n",
              "        const buttonEl =\n",
              "          document.querySelector('#df-b083ffd6-fafe-4f9b-8b1b-d356f2342749 button.colab-df-convert');\n",
              "        buttonEl.style.display =\n",
              "          google.colab.kernel.accessAllowed ? 'block' : 'none';\n",
              "\n",
              "        async function convertToInteractive(key) {\n",
              "          const element = document.querySelector('#df-b083ffd6-fafe-4f9b-8b1b-d356f2342749');\n",
              "          const dataTable =\n",
              "            await google.colab.kernel.invokeFunction('convertToInteractive',\n",
              "                                                     [key], {});\n",
              "          if (!dataTable) return;\n",
              "\n",
              "          const docLinkHtml = 'Like what you see? Visit the ' +\n",
              "            '<a target=\"_blank\" href=https://colab.research.google.com/notebooks/data_table.ipynb>data table notebook</a>'\n",
              "            + ' to learn more about interactive tables.';\n",
              "          element.innerHTML = '';\n",
              "          dataTable['output_type'] = 'display_data';\n",
              "          await google.colab.output.renderOutput(dataTable, element);\n",
              "          const docLink = document.createElement('div');\n",
              "          docLink.innerHTML = docLinkHtml;\n",
              "          element.appendChild(docLink);\n",
              "        }\n",
              "      </script>\n",
              "    </div>\n",
              "  </div>\n",
              "  "
            ]
          },
          "metadata": {},
          "execution_count": 34
        }
      ]
    },
    {
      "cell_type": "markdown",
      "source": [
        "**Finalmente vamos a ver cuáles son las variables más importantes en el modelo.**\n",
        "\n",
        "**Para ello usamos el método \"feature_importances_\" perteneciente a la librería Scikit-learn.\n",
        "\n",
        "**Para modelos sin atributos 'feature_importances_'. usaremos 'permutation_importance' para obtener la importancia de las características.***\n",
        "\n",
        "Luego eliminaremoslas variables menos importantes (10 de ellas) y volveremos a entrenar el modelo con los datos reducidos para el compruebe de su rendimiento."
      ],
      "metadata": {
        "id": "WqYUCqqKqMPi"
      }
    },
    {
      "cell_type": "code",
      "source": [
        "from eli5.sklearn.unhashing import FeatureNames\n",
        "from sklearn.feature_extraction.text import FeatureHasher\n",
        "\n",
        "\n",
        "# Función para obtener importancia promedio de las características en VotingClassifier\n",
        "def feature_importances_voting(voting_clf):\n",
        "    importances = []\n",
        "    for name, model in voting_clf.named_estimators_.items():\n",
        "        if hasattr(model, 'feature_importances_'):\n",
        "            importances.append(model.feature_importances_)\n",
        "        else:\n",
        "            # Para modelos sin atributo 'feature_importances_', utilizamos 'permutation_importance'\n",
        "            imp = permutation_importance(\n",
        "                estimator=model,\n",
        "                X=X_train,\n",
        "                y=y_train,\n",
        "                n_repeats=5,\n",
        "                n_jobs=multiprocessing.cpu_count() - 1,\n",
        "                random_state=123\n",
        "            )\n",
        "            importances.append(imp.importances_mean)\n",
        "    return np.mean(importances, axis=0)\n",
        "\n",
        "# Obtener la importancia de las características para el VotingClassifier\n",
        "importances = feature_importances_voting(voting_clf)\n",
        "\n",
        "#nombres de columnas\n",
        "nombres_predictores = ['Open', 'Volume', 'Dividends', 'Stock Splits', 'company',\n",
        "       'SMA_10_Volume', 'EMA_10_Open', 'EMA_10_Volume', 'MACD_6_12_9_Close',\n",
        "       'MACD_6_12_9_Close_signal', 'MACD_6_12_9_High',\n",
        "       'MACD_6_12_9_High_signal', 'MACD_6_12_9_Low', 'MACD_6_12_9_Low_signal',\n",
        "       'MACD_6_12_9_Open', 'MACD_6_12_9_Open_signal', 'MACD_6_12_9_Volume',\n",
        "       'MACD_6_12_9_Volume_signal', 'RSI', 'BOLLINGER_21_2_high',\n",
        "       'BOLLINGER_21_2_low', 'BOLLINGER_21_2_medium', 'BOLLINGER_21_2_bbhi',\n",
        "       'BOLLINGER_21_2_bbli', 'BOLLINGER_21_2_bbw', 'BOLLINGER_21_2_bbp',\n",
        "       'STD_DEV_14_Close', 'STD_DEV_14_High', 'STD_DEV_14_Low',\n",
        "       'STD_DEV_14_Open', 'STD_DEV_14_Volume', 'CCI', 'ESTOCASTICO_14_3_%K',\n",
        "       'ESTOCASTICO_14_3_%D', 'WILLIAMSR_14', 'ADI', 'CMF_21', 'PSAR_0.02_0.2',\n",
        "       'PSAR_0.02_0.2_down_indicator', 'PSAR_0.02_0.2_up_indicator', 'ATR_14',\n",
        "       'ADX_14', 'ADX_14_neg', 'ADX_14_pos', 'ROC_Close_12', 'ROC_High_12',\n",
        "       'ROC_Low_12', 'ROC_Open_12', 'ROC_Volume_12', 'OBV', 'MFI_14',\n",
        "       'ICHIMOKU_A_9_26', 'ICHIMOKU_B_26_52', 'ICHIMOKU_BASE_LINE_9_26',\n",
        "       'ICHIMOKU_CONVERSION_LINE_9_26', 'DPO_Close_20', 'DPO_High_20',\n",
        "       'DPO_Low_20', 'DPO_Open_20', 'DPO_Volume_20', 'NVI', 'PRE_OPEN',\n",
        "       'GAP_%', 'GAP_€', 'WEEKDAY', 'WEEK', 'MONTH']\n",
        "\n",
        "# Crear un DataFrame con la importancia de las características\n",
        "importance_predictores = pd.DataFrame({'predictor': nombres_predictores, 'importancia': importances})\n",
        "importancia_predictores_orden = importance_predictores.sort_values('importancia', ascending=False)\n",
        "\n",
        "print(\"Importancia de los predictores en el modelo\")\n",
        "print(\"-------------------------------------------\")\n",
        "print(importancia_predictores_orden)\n",
        "\n",
        "# Eliminar las 10 variables menos importantes\n",
        "variables_a_eliminar = importancia_predictores_orden.tail(10)['predictor'].index\n",
        "\n",
        "dataframe_X_train = pd.DataFrame(X_train, columns=nombres_predictores)\n",
        "dataframe_X_test = pd.DataFrame(X_test, columns=nombres_predictores)\n",
        "dataframe_X_validation = pd.DataFrame(X_validation, columns=nombres_predictores)\n",
        "\n",
        "dataframe_X_train_reducido = dataframe_X_train.drop(dataframe_X_train.columns[variables_a_eliminar], axis=1)\n",
        "dataframe_X_test_reducido = dataframe_X_test.drop(dataframe_X_test.columns[variables_a_eliminar], axis=1)\n",
        "dataframe_X_validation_reducido = dataframe_X_validation.drop(dataframe_X_validation.columns[variables_a_eliminar], axis=1)\n",
        "\n",
        "X_train_reducido = dataframe_X_train_reducido.to_numpy()\n",
        "X_test_reducido = dataframe_X_test_reducido.to_numpy()\n",
        "X_validation_reducido = dataframe_X_validation_reducido.to_numpy()\n",
        "\n",
        "# Ajustar el modelo con los nuevos datos reducidos\n",
        "voting_clf.fit(X_train_reducido, y_train)\n",
        "\n",
        "# Evaluar el modelo con datos reducidos y mostrar las métricas\n",
        "y_pred_reducido = voting_clf.predict(X_test_reducido)\n",
        "voting_accuracy_reducido = accuracy_score(y_test, y_pred_reducido)\n",
        "\n",
        "print(\"Voting Classifier Accuracy (reduced features):\", voting_accuracy_reducido)\n"
      ],
      "metadata": {
        "colab": {
          "base_uri": "https://localhost:8080/"
        },
        "id": "EzVP8SYAh8TS",
        "outputId": "7f57e22d-c478-4949-be72-8265697ad8c4"
      },
      "execution_count": 35,
      "outputs": [
        {
          "output_type": "stream",
          "name": "stdout",
          "text": [
            "Importancia de los predictores en el modelo\n",
            "-------------------------------------------\n",
            "                        predictor  importancia\n",
            "62                          GAP_%    24.868123\n",
            "63                          GAP_€    22.031880\n",
            "40                         ATR_14    16.212715\n",
            "49                            OBV    14.809355\n",
            "35                            ADI    11.608216\n",
            "24             BOLLINGER_21_2_bbw    11.206349\n",
            "60                            NVI    10.205849\n",
            "65                           WEEK     9.611598\n",
            "4                         company     9.209907\n",
            "41                         ADX_14     9.006664\n",
            "31                            CCI     8.605324\n",
            "32            ESTOCASTICO_14_3_%K     8.209829\n",
            "57                     DPO_Low_20     8.205171\n",
            "59                  DPO_Volume_20     7.805889\n",
            "48                  ROC_Volume_12     7.805299\n",
            "55                   DPO_Close_20     7.605190\n",
            "44                   ROC_Close_12     7.204599\n",
            "5                   SMA_10_Volume     7.010252\n",
            "50                         MFI_14     7.007479\n",
            "16             MACD_6_12_9_Volume     7.006351\n",
            "25             BOLLINGER_21_2_bbp     6.606892\n",
            "30              STD_DEV_14_Volume     6.406647\n",
            "36                         CMF_21     6.205431\n",
            "21          BOLLINGER_21_2_medium     6.027390\n",
            "42                     ADX_14_neg     6.007668\n",
            "17      MACD_6_12_9_Volume_signal     6.005865\n",
            "33            ESTOCASTICO_14_3_%D     5.411315\n",
            "1                          Volume     5.006940\n",
            "12                MACD_6_12_9_Low     4.805605\n",
            "56                    DPO_High_20     4.805274\n",
            "11        MACD_6_12_9_High_signal     4.804706\n",
            "19            BOLLINGER_21_2_high     4.627360\n",
            "43                     ADX_14_pos     4.605025\n",
            "52               ICHIMOKU_B_26_52     4.409348\n",
            "14               MACD_6_12_9_Open     4.407243\n",
            "37                  PSAR_0.02_0.2     4.210694\n",
            "26               STD_DEV_14_Close     4.005698\n",
            "58                    DPO_Open_20     4.005318\n",
            "20             BOLLINGER_21_2_low     3.814951\n",
            "18                            RSI     3.805719\n",
            "47                    ROC_Open_12     3.805152\n",
            "15        MACD_6_12_9_Open_signal     3.804509\n",
            "45                    ROC_High_12     3.605032\n",
            "28                 STD_DEV_14_Low     3.405398\n",
            "64                        WEEKDAY     3.214958\n",
            "10               MACD_6_12_9_High     3.008890\n",
            "27                STD_DEV_14_High     2.607913\n",
            "8               MACD_6_12_9_Close     2.605636\n",
            "29                STD_DEV_14_Open     2.405624\n",
            "46                     ROC_Low_12     2.205431\n",
            "13         MACD_6_12_9_Low_signal     2.205052\n",
            "66                          MONTH     2.011770\n",
            "54  ICHIMOKU_CONVERSION_LINE_9_26     1.819137\n",
            "53        ICHIMOKU_BASE_LINE_9_26     1.805122\n",
            "61                       PRE_OPEN     1.622934\n",
            "51                ICHIMOKU_A_9_26     1.406024\n",
            "9        MACD_6_12_9_Close_signal     1.204654\n",
            "0                            Open     1.011073\n",
            "6                     EMA_10_Open     0.805143\n",
            "38   PSAR_0.02_0.2_down_indicator     0.402203\n",
            "2                       Dividends     0.400040\n",
            "34                   WILLIAMSR_14     0.009831\n",
            "7                   EMA_10_Volume     0.009186\n",
            "22            BOLLINGER_21_2_bbhi     0.002703\n",
            "39     PSAR_0.02_0.2_up_indicator     0.002436\n",
            "23            BOLLINGER_21_2_bbli     0.000032\n",
            "3                    Stock Splits     0.000004\n",
            "Voting Classifier Accuracy (reduced features): 0.677579776212184\n"
          ]
        }
      ]
    },
    {
      "cell_type": "markdown",
      "source": [],
      "metadata": {
        "id": "ZOtEtc48rq83"
      }
    },
    {
      "cell_type": "code",
      "source": [
        "# Ajustar el modelo con los nuevos datos reducidos\n",
        "stacking_clf.fit(X_train_reducido, y_train)\n",
        "\n",
        "# Evaluar el modelo con datos reducidos y mostrar las métricas\n",
        "y_pred_reducido = stacking_clf.predict(X_test_reducido)\n",
        "voting_accuracy_reducido = accuracy_score(y_test, y_pred_reducido)\n",
        "\n",
        "print(\"Voting Classifier Accuracy (reduced features):\", voting_accuracy_reducido)"
      ],
      "metadata": {
        "colab": {
          "base_uri": "https://localhost:8080/"
        },
        "id": "n_k_4CXyWuXT",
        "outputId": "68225ba9-b8a1-4e37-87c3-b2b20eb28d8e"
      },
      "execution_count": 36,
      "outputs": [
        {
          "output_type": "stream",
          "name": "stdout",
          "text": [
            "Voting Classifier Accuracy (reduced features): 0.6825528387898881\n"
          ]
        }
      ]
    },
    {
      "cell_type": "markdown",
      "source": [
        "Comparacion para eleccion del mejor modelo obtenido."
      ],
      "metadata": {
        "id": "VFBIDCNHK28U"
      }
    },
    {
      "cell_type": "code",
      "source": [
        "# Evaluar el modelo con datos reducidos y mostrar las métricas\n",
        "y_pred_reducido_voting = voting_clf.predict(X_test_reducido)\n",
        "voting_accuracy_reducido = accuracy_score(y_test, y_pred_reducido_voting)\n",
        "print(\"Voting Classifier Accuracy (reduced features):\", voting_accuracy_reducido)\n",
        "\n",
        "y_pred_reducido_stacking = stacking_clf.predict(X_test_reducido)\n",
        "stacking_accuracy_reducido = accuracy_score(y_test, y_pred_reducido_stacking)\n",
        "print(\"Stacking Classifier Accuracy (reduced features):\", stacking_accuracy_reducido)\n",
        "\n",
        "# Matriz de confusión para Voting Classifier\n",
        "predicciones_voting = voting_clf.predict(X_test_reducido)\n",
        "fig, ax = plt.subplots(figsize=(3, 3))\n",
        "ConfusionMatrixDisplay.from_predictions(y_test, predicciones_voting, ax=ax)\n",
        "plt.show()\n",
        "\n",
        "# Matriz de confusión para Stacking Classifier\n",
        "predicciones_stacking = stacking_clf.predict(X_test_reducido)\n",
        "fig, ax = plt.subplots(figsize=(3, 3))\n",
        "ConfusionMatrixDisplay.from_predictions(y_test, predicciones_stacking, ax=ax)\n",
        "plt.show()\n",
        "\n",
        "# Classification report para Voting Classifier\n",
        "print(\"Classification Report - Voting Classifier\")\n",
        "print(classification_report(y_test, predicciones_voting))\n",
        "\n",
        "# Classification report para Stacking Classifier\n",
        "print(\"Classification Report - Stacking Classifier\")\n",
        "print(classification_report(y_test, predicciones_stacking))"
      ],
      "metadata": {
        "id": "SFqC-Mx-7r5W",
        "colab": {
          "base_uri": "https://localhost:8080/",
          "height": 941
        },
        "outputId": "28f1f238-8151-46cb-fb57-4b7b28bebb42"
      },
      "execution_count": 37,
      "outputs": [
        {
          "output_type": "stream",
          "name": "stdout",
          "text": [
            "Voting Classifier Accuracy (reduced features): 0.677579776212184\n",
            "Stacking Classifier Accuracy (reduced features): 0.6825528387898881\n"
          ]
        },
        {
          "output_type": "display_data",
          "data": {
            "text/plain": [
              "<Figure size 300x300 with 2 Axes>"
            ],
            "image/png": "[encoded data removed]"
          },
          "metadata": {}
        },
        {
          "output_type": "display_data",
          "data": {
            "text/plain": [
              "<Figure size 300x300 with 2 Axes>"
            ],
            "image/png": "[encoded data removed]"
          },
          "metadata": {}
        },
        {
          "output_type": "stream",
          "name": "stdout",
          "text": [
            "Classification Report - Voting Classifier\n",
            "              precision    recall  f1-score   support\n",
            "\n",
            "         0.0       0.69      0.64      0.67      2413\n",
            "         1.0       0.67      0.71      0.69      2413\n",
            "\n",
            "    accuracy                           0.68      4826\n",
            "   macro avg       0.68      0.68      0.68      4826\n",
            "weighted avg       0.68      0.68      0.68      4826\n",
            "\n",
            "Classification Report - Stacking Classifier\n",
            "              precision    recall  f1-score   support\n",
            "\n",
            "         0.0       0.69      0.66      0.68      2413\n",
            "         1.0       0.67      0.71      0.69      2413\n",
            "\n",
            "    accuracy                           0.68      4826\n",
            "   macro avg       0.68      0.68      0.68      4826\n",
            "weighted avg       0.68      0.68      0.68      4826\n",
            "\n"
          ]
        }
      ]
    },
    {
      "cell_type": "markdown",
      "source": [
        "Al revisar todos los resultados, se puede apreciar que el Voting Classifier es mejor que el Stacking Classifier y que reduciendo las características empeora el accuracy del modelo ligeramente asi que nos quedaremos con el Stacking Classifier."
      ],
      "metadata": {
        "id": "pO9vXfg5VSfZ"
      }
    },
    {
      "cell_type": "code",
      "source": [],
      "metadata": {
        "id": "gIywrxy37rx8"
      },
      "execution_count": null,
      "outputs": []
    },
    {
      "cell_type": "markdown",
      "source": [
        "Aplicacion de Modelo en df a predecir con datos actuales"
      ],
      "metadata": {
        "id": "QcGQhnYPrvZW"
      }
    },
    {
      "cell_type": "code",
      "source": [
        "\n",
        "# Cargar los datos preprocesados\n",
        "df_predecir = pd.read_csv('ibex_predecir_preprocesado.csv', sep=',', decimal='.')\n",
        "\n",
        "df_predecir = df_predecir.reset_index(drop=True)\n",
        "\n",
        "# Seleccionar las características y excluir la etiqueta\n",
        "df_predecir=df_predecir.drop('CLOSURE', axis=1)\n",
        "\n",
        "# Escalar las características utilizando el mismo scaler que se ajustó en el conjunto de datos de entrenamiento\n",
        "X_predecir = scaler.transform(df_predecir)\n",
        "\n",
        "# Predecir con el modelo\n",
        "y_pred = stacking_clf.predict(X_predecir)\n",
        "\n",
        "# Agregar las predicciones al dataframe\n",
        "df_predecir['PREDICTION'] = y_pred\n",
        "\n",
        "# Descargar el archivo con las predicciones\n",
        "df_predecir.to_csv('ibex_predicciones.csv', index=False)\n",
        "from google.colab import files\n",
        "files.download('ibex_predicciones.csv')"
      ],
      "metadata": {
        "colab": {
          "base_uri": "https://localhost:8080/",
          "height": 398
        },
        "id": "4LjMnlj9sAmZ",
        "outputId": "b0f37fc7-456e-45bf-ef7e-e84ac2bab4ca"
      },
      "execution_count": 38,
      "outputs": [
        {
          "output_type": "error",
          "ename": "ValueError",
          "evalue": "ignored",
          "traceback": [
            "\u001b[0;31m---------------------------------------------------------------------------\u001b[0m",
            "\u001b[0;31mValueError\u001b[0m                                Traceback (most recent call last)",
            "\u001b[0;32m<ipython-input-38-60a39c704c7f>\u001b[0m in \u001b[0;36m<cell line: 13>\u001b[0;34m()\u001b[0m\n\u001b[1;32m     11\u001b[0m \u001b[0;34m\u001b[0m\u001b[0m\n\u001b[1;32m     12\u001b[0m \u001b[0;31m# Predecir con el modelo\u001b[0m\u001b[0;34m\u001b[0m\u001b[0;34m\u001b[0m\u001b[0m\n\u001b[0;32m---> 13\u001b[0;31m \u001b[0my_pred\u001b[0m \u001b[0;34m=\u001b[0m \u001b[0mstacking_clf\u001b[0m\u001b[0;34m.\u001b[0m\u001b[0mpredict\u001b[0m\u001b[0;34m(\u001b[0m\u001b[0mX_predecir\u001b[0m\u001b[0;34m)\u001b[0m\u001b[0;34m\u001b[0m\u001b[0;34m\u001b[0m\u001b[0m\n\u001b[0m\u001b[1;32m     14\u001b[0m \u001b[0;34m\u001b[0m\u001b[0m\n\u001b[1;32m     15\u001b[0m \u001b[0;31m# Agregar las predicciones al dataframe\u001b[0m\u001b[0;34m\u001b[0m\u001b[0;34m\u001b[0m\u001b[0m\n",
            "\u001b[0;32m/usr/local/lib/python3.10/dist-packages/sklearn/ensemble/_stacking.py\u001b[0m in \u001b[0;36mpredict\u001b[0;34m(self, X, **predict_params)\u001b[0m\n\u001b[1;32m    681\u001b[0m             \u001b[0mPredicted\u001b[0m \u001b[0mtargets\u001b[0m\u001b[0;34m.\u001b[0m\u001b[0;34m\u001b[0m\u001b[0;34m\u001b[0m\u001b[0m\n\u001b[1;32m    682\u001b[0m         \"\"\"\n\u001b[0;32m--> 683\u001b[0;31m         \u001b[0my_pred\u001b[0m \u001b[0;34m=\u001b[0m \u001b[0msuper\u001b[0m\u001b[0;34m(\u001b[0m\u001b[0;34m)\u001b[0m\u001b[0;34m.\u001b[0m\u001b[0mpredict\u001b[0m\u001b[0;34m(\u001b[0m\u001b[0mX\u001b[0m\u001b[0;34m,\u001b[0m \u001b[0;34m**\u001b[0m\u001b[0mpredict_params\u001b[0m\u001b[0;34m)\u001b[0m\u001b[0;34m\u001b[0m\u001b[0;34m\u001b[0m\u001b[0m\n\u001b[0m\u001b[1;32m    684\u001b[0m         \u001b[0;32mif\u001b[0m \u001b[0misinstance\u001b[0m\u001b[0;34m(\u001b[0m\u001b[0mself\u001b[0m\u001b[0;34m.\u001b[0m\u001b[0m_label_encoder\u001b[0m\u001b[0;34m,\u001b[0m \u001b[0mlist\u001b[0m\u001b[0;34m)\u001b[0m\u001b[0;34m:\u001b[0m\u001b[0;34m\u001b[0m\u001b[0;34m\u001b[0m\u001b[0m\n\u001b[1;32m    685\u001b[0m             \u001b[0;31m# Handle the multilabel-indicator case\u001b[0m\u001b[0;34m\u001b[0m\u001b[0;34m\u001b[0m\u001b[0m\n",
            "\u001b[0;32m/usr/local/lib/python3.10/dist-packages/sklearn/ensemble/_stacking.py\u001b[0m in \u001b[0;36mpredict\u001b[0;34m(self, X, **predict_params)\u001b[0m\n\u001b[1;32m    369\u001b[0m \u001b[0;34m\u001b[0m\u001b[0m\n\u001b[1;32m    370\u001b[0m         \u001b[0mcheck_is_fitted\u001b[0m\u001b[0;34m(\u001b[0m\u001b[0mself\u001b[0m\u001b[0;34m)\u001b[0m\u001b[0;34m\u001b[0m\u001b[0;34m\u001b[0m\u001b[0m\n\u001b[0;32m--> 371\u001b[0;31m         \u001b[0;32mreturn\u001b[0m \u001b[0mself\u001b[0m\u001b[0;34m.\u001b[0m\u001b[0mfinal_estimator_\u001b[0m\u001b[0;34m.\u001b[0m\u001b[0mpredict\u001b[0m\u001b[0;34m(\u001b[0m\u001b[0mself\u001b[0m\u001b[0;34m.\u001b[0m\u001b[0mtransform\u001b[0m\u001b[0;34m(\u001b[0m\u001b[0mX\u001b[0m\u001b[0;34m)\u001b[0m\u001b[0;34m,\u001b[0m \u001b[0;34m**\u001b[0m\u001b[0mpredict_params\u001b[0m\u001b[0;34m)\u001b[0m\u001b[0;34m\u001b[0m\u001b[0;34m\u001b[0m\u001b[0m\n\u001b[0m\u001b[1;32m    372\u001b[0m \u001b[0;34m\u001b[0m\u001b[0m\n\u001b[1;32m    373\u001b[0m     \u001b[0;32mdef\u001b[0m \u001b[0m_sk_visual_block_with_final_estimator\u001b[0m\u001b[0;34m(\u001b[0m\u001b[0mself\u001b[0m\u001b[0;34m,\u001b[0m \u001b[0mfinal_estimator\u001b[0m\u001b[0;34m)\u001b[0m\u001b[0;34m:\u001b[0m\u001b[0;34m\u001b[0m\u001b[0;34m\u001b[0m\u001b[0m\n",
            "\u001b[0;32m/usr/local/lib/python3.10/dist-packages/sklearn/utils/_set_output.py\u001b[0m in \u001b[0;36mwrapped\u001b[0;34m(self, X, *args, **kwargs)\u001b[0m\n\u001b[1;32m    138\u001b[0m     \u001b[0;34m@\u001b[0m\u001b[0mwraps\u001b[0m\u001b[0;34m(\u001b[0m\u001b[0mf\u001b[0m\u001b[0;34m)\u001b[0m\u001b[0;34m\u001b[0m\u001b[0;34m\u001b[0m\u001b[0m\n\u001b[1;32m    139\u001b[0m     \u001b[0;32mdef\u001b[0m \u001b[0mwrapped\u001b[0m\u001b[0;34m(\u001b[0m\u001b[0mself\u001b[0m\u001b[0;34m,\u001b[0m \u001b[0mX\u001b[0m\u001b[0;34m,\u001b[0m \u001b[0;34m*\u001b[0m\u001b[0margs\u001b[0m\u001b[0;34m,\u001b[0m \u001b[0;34m**\u001b[0m\u001b[0mkwargs\u001b[0m\u001b[0;34m)\u001b[0m\u001b[0;34m:\u001b[0m\u001b[0;34m\u001b[0m\u001b[0;34m\u001b[0m\u001b[0m\n\u001b[0;32m--> 140\u001b[0;31m         \u001b[0mdata_to_wrap\u001b[0m \u001b[0;34m=\u001b[0m \u001b[0mf\u001b[0m\u001b[0;34m(\u001b[0m\u001b[0mself\u001b[0m\u001b[0;34m,\u001b[0m \u001b[0mX\u001b[0m\u001b[0;34m,\u001b[0m \u001b[0;34m*\u001b[0m\u001b[0margs\u001b[0m\u001b[0;34m,\u001b[0m \u001b[0;34m**\u001b[0m\u001b[0mkwargs\u001b[0m\u001b[0;34m)\u001b[0m\u001b[0;34m\u001b[0m\u001b[0;34m\u001b[0m\u001b[0m\n\u001b[0m\u001b[1;32m    141\u001b[0m         \u001b[0;32mif\u001b[0m \u001b[0misinstance\u001b[0m\u001b[0;34m(\u001b[0m\u001b[0mdata_to_wrap\u001b[0m\u001b[0;34m,\u001b[0m \u001b[0mtuple\u001b[0m\u001b[0;34m)\u001b[0m\u001b[0;34m:\u001b[0m\u001b[0;34m\u001b[0m\u001b[0;34m\u001b[0m\u001b[0m\n\u001b[1;32m    142\u001b[0m             \u001b[0;31m# only wrap the first output for cross decomposition\u001b[0m\u001b[0;34m\u001b[0m\u001b[0;34m\u001b[0m\u001b[0m\n",
            "\u001b[0;32m/usr/local/lib/python3.10/dist-packages/sklearn/ensemble/_stacking.py\u001b[0m in \u001b[0;36mtransform\u001b[0;34m(self, X)\u001b[0m\n\u001b[1;32m    752\u001b[0m             \u001b[0mPrediction\u001b[0m \u001b[0moutputs\u001b[0m \u001b[0;32mfor\u001b[0m \u001b[0meach\u001b[0m \u001b[0mestimator\u001b[0m\u001b[0;34m.\u001b[0m\u001b[0;34m\u001b[0m\u001b[0;34m\u001b[0m\u001b[0m\n\u001b[1;32m    753\u001b[0m         \"\"\"\n\u001b[0;32m--> 754\u001b[0;31m         \u001b[0;32mreturn\u001b[0m \u001b[0mself\u001b[0m\u001b[0;34m.\u001b[0m\u001b[0m_transform\u001b[0m\u001b[0;34m(\u001b[0m\u001b[0mX\u001b[0m\u001b[0;34m)\u001b[0m\u001b[0;34m\u001b[0m\u001b[0;34m\u001b[0m\u001b[0m\n\u001b[0m\u001b[1;32m    755\u001b[0m \u001b[0;34m\u001b[0m\u001b[0m\n\u001b[1;32m    756\u001b[0m     \u001b[0;32mdef\u001b[0m \u001b[0m_sk_visual_block_\u001b[0m\u001b[0;34m(\u001b[0m\u001b[0mself\u001b[0m\u001b[0;34m)\u001b[0m\u001b[0;34m:\u001b[0m\u001b[0;34m\u001b[0m\u001b[0;34m\u001b[0m\u001b[0m\n",
            "\u001b[0;32m/usr/local/lib/python3.10/dist-packages/sklearn/ensemble/_stacking.py\u001b[0m in \u001b[0;36m_transform\u001b[0;34m(self, X)\u001b[0m\n\u001b[1;32m    294\u001b[0m         \u001b[0;34m\"\"\"Concatenate and return the predictions of the estimators.\"\"\"\u001b[0m\u001b[0;34m\u001b[0m\u001b[0;34m\u001b[0m\u001b[0m\n\u001b[1;32m    295\u001b[0m         \u001b[0mcheck_is_fitted\u001b[0m\u001b[0;34m(\u001b[0m\u001b[0mself\u001b[0m\u001b[0;34m)\u001b[0m\u001b[0;34m\u001b[0m\u001b[0;34m\u001b[0m\u001b[0m\n\u001b[0;32m--> 296\u001b[0;31m         predictions = [\n\u001b[0m\u001b[1;32m    297\u001b[0m             \u001b[0mgetattr\u001b[0m\u001b[0;34m(\u001b[0m\u001b[0mest\u001b[0m\u001b[0;34m,\u001b[0m \u001b[0mmeth\u001b[0m\u001b[0;34m)\u001b[0m\u001b[0;34m(\u001b[0m\u001b[0mX\u001b[0m\u001b[0;34m)\u001b[0m\u001b[0;34m\u001b[0m\u001b[0;34m\u001b[0m\u001b[0m\n\u001b[1;32m    298\u001b[0m             \u001b[0;32mfor\u001b[0m \u001b[0mest\u001b[0m\u001b[0;34m,\u001b[0m \u001b[0mmeth\u001b[0m \u001b[0;32min\u001b[0m \u001b[0mzip\u001b[0m\u001b[0;34m(\u001b[0m\u001b[0mself\u001b[0m\u001b[0;34m.\u001b[0m\u001b[0mestimators_\u001b[0m\u001b[0;34m,\u001b[0m \u001b[0mself\u001b[0m\u001b[0;34m.\u001b[0m\u001b[0mstack_method_\u001b[0m\u001b[0;34m)\u001b[0m\u001b[0;34m\u001b[0m\u001b[0;34m\u001b[0m\u001b[0m\n",
            "\u001b[0;32m/usr/local/lib/python3.10/dist-packages/sklearn/ensemble/_stacking.py\u001b[0m in \u001b[0;36m<listcomp>\u001b[0;34m(.0)\u001b[0m\n\u001b[1;32m    295\u001b[0m         \u001b[0mcheck_is_fitted\u001b[0m\u001b[0;34m(\u001b[0m\u001b[0mself\u001b[0m\u001b[0;34m)\u001b[0m\u001b[0;34m\u001b[0m\u001b[0;34m\u001b[0m\u001b[0m\n\u001b[1;32m    296\u001b[0m         predictions = [\n\u001b[0;32m--> 297\u001b[0;31m             \u001b[0mgetattr\u001b[0m\u001b[0;34m(\u001b[0m\u001b[0mest\u001b[0m\u001b[0;34m,\u001b[0m \u001b[0mmeth\u001b[0m\u001b[0;34m)\u001b[0m\u001b[0;34m(\u001b[0m\u001b[0mX\u001b[0m\u001b[0;34m)\u001b[0m\u001b[0;34m\u001b[0m\u001b[0;34m\u001b[0m\u001b[0m\n\u001b[0m\u001b[1;32m    298\u001b[0m             \u001b[0;32mfor\u001b[0m \u001b[0mest\u001b[0m\u001b[0;34m,\u001b[0m \u001b[0mmeth\u001b[0m \u001b[0;32min\u001b[0m \u001b[0mzip\u001b[0m\u001b[0;34m(\u001b[0m\u001b[0mself\u001b[0m\u001b[0;34m.\u001b[0m\u001b[0mestimators_\u001b[0m\u001b[0;34m,\u001b[0m \u001b[0mself\u001b[0m\u001b[0;34m.\u001b[0m\u001b[0mstack_method_\u001b[0m\u001b[0;34m)\u001b[0m\u001b[0;34m\u001b[0m\u001b[0;34m\u001b[0m\u001b[0m\n\u001b[1;32m    299\u001b[0m             \u001b[0;32mif\u001b[0m \u001b[0mest\u001b[0m \u001b[0;34m!=\u001b[0m \u001b[0;34m\"drop\"\u001b[0m\u001b[0;34m\u001b[0m\u001b[0;34m\u001b[0m\u001b[0m\n",
            "\u001b[0;32m/usr/local/lib/python3.10/dist-packages/xgboost/sklearn.py\u001b[0m in \u001b[0;36mpredict_proba\u001b[0;34m(self, X, ntree_limit, validate_features, base_margin, iteration_range)\u001b[0m\n\u001b[1;32m   1604\u001b[0m             \u001b[0mclass_prob\u001b[0m \u001b[0;34m=\u001b[0m \u001b[0msoftmax\u001b[0m\u001b[0;34m(\u001b[0m\u001b[0mraw_predt\u001b[0m\u001b[0;34m,\u001b[0m \u001b[0maxis\u001b[0m\u001b[0;34m=\u001b[0m\u001b[0;36m1\u001b[0m\u001b[0;34m)\u001b[0m\u001b[0;34m\u001b[0m\u001b[0;34m\u001b[0m\u001b[0m\n\u001b[1;32m   1605\u001b[0m             \u001b[0;32mreturn\u001b[0m \u001b[0mclass_prob\u001b[0m\u001b[0;34m\u001b[0m\u001b[0;34m\u001b[0m\u001b[0m\n\u001b[0;32m-> 1606\u001b[0;31m         class_probs = super().predict(\n\u001b[0m\u001b[1;32m   1607\u001b[0m             \u001b[0mX\u001b[0m\u001b[0;34m=\u001b[0m\u001b[0mX\u001b[0m\u001b[0;34m,\u001b[0m\u001b[0;34m\u001b[0m\u001b[0;34m\u001b[0m\u001b[0m\n\u001b[1;32m   1608\u001b[0m             \u001b[0mntree_limit\u001b[0m\u001b[0;34m=\u001b[0m\u001b[0mntree_limit\u001b[0m\u001b[0;34m,\u001b[0m\u001b[0;34m\u001b[0m\u001b[0;34m\u001b[0m\u001b[0m\n",
            "\u001b[0;32m/usr/local/lib/python3.10/dist-packages/xgboost/sklearn.py\u001b[0m in \u001b[0;36mpredict\u001b[0;34m(self, X, output_margin, ntree_limit, validate_features, base_margin, iteration_range)\u001b[0m\n\u001b[1;32m   1112\u001b[0m             \u001b[0;32mif\u001b[0m \u001b[0mself\u001b[0m\u001b[0;34m.\u001b[0m\u001b[0m_can_use_inplace_predict\u001b[0m\u001b[0;34m(\u001b[0m\u001b[0;34m)\u001b[0m\u001b[0;34m:\u001b[0m\u001b[0;34m\u001b[0m\u001b[0;34m\u001b[0m\u001b[0m\n\u001b[1;32m   1113\u001b[0m                 \u001b[0;32mtry\u001b[0m\u001b[0;34m:\u001b[0m\u001b[0;34m\u001b[0m\u001b[0;34m\u001b[0m\u001b[0m\n\u001b[0;32m-> 1114\u001b[0;31m                     predts = self.get_booster().inplace_predict(\n\u001b[0m\u001b[1;32m   1115\u001b[0m                         \u001b[0mdata\u001b[0m\u001b[0;34m=\u001b[0m\u001b[0mX\u001b[0m\u001b[0;34m,\u001b[0m\u001b[0;34m\u001b[0m\u001b[0;34m\u001b[0m\u001b[0m\n\u001b[1;32m   1116\u001b[0m                         \u001b[0miteration_range\u001b[0m\u001b[0;34m=\u001b[0m\u001b[0miteration_range\u001b[0m\u001b[0;34m,\u001b[0m\u001b[0;34m\u001b[0m\u001b[0;34m\u001b[0m\u001b[0m\n",
            "\u001b[0;32m/usr/local/lib/python3.10/dist-packages/xgboost/core.py\u001b[0m in \u001b[0;36minplace_predict\u001b[0;34m(self, data, iteration_range, predict_type, missing, validate_features, base_margin, strict_shape)\u001b[0m\n\u001b[1;32m   2267\u001b[0m                 )\n\u001b[1;32m   2268\u001b[0m             \u001b[0;32mif\u001b[0m \u001b[0mlen\u001b[0m\u001b[0;34m(\u001b[0m\u001b[0mdata\u001b[0m\u001b[0;34m.\u001b[0m\u001b[0mshape\u001b[0m\u001b[0;34m)\u001b[0m \u001b[0;34m!=\u001b[0m \u001b[0;36m1\u001b[0m \u001b[0;32mand\u001b[0m \u001b[0mself\u001b[0m\u001b[0;34m.\u001b[0m\u001b[0mnum_features\u001b[0m\u001b[0;34m(\u001b[0m\u001b[0;34m)\u001b[0m \u001b[0;34m!=\u001b[0m \u001b[0mdata\u001b[0m\u001b[0;34m.\u001b[0m\u001b[0mshape\u001b[0m\u001b[0;34m[\u001b[0m\u001b[0;36m1\u001b[0m\u001b[0;34m]\u001b[0m\u001b[0;34m:\u001b[0m\u001b[0;34m\u001b[0m\u001b[0;34m\u001b[0m\u001b[0m\n\u001b[0;32m-> 2269\u001b[0;31m                 raise ValueError(\n\u001b[0m\u001b[1;32m   2270\u001b[0m                     \u001b[0;34mf\"Feature shape mismatch, expected: {self.num_features()}, \"\u001b[0m\u001b[0;34m\u001b[0m\u001b[0;34m\u001b[0m\u001b[0m\n\u001b[1;32m   2271\u001b[0m                     \u001b[0;34mf\"got {data.shape[1]}\"\u001b[0m\u001b[0;34m\u001b[0m\u001b[0;34m\u001b[0m\u001b[0m\n",
            "\u001b[0;31mValueError\u001b[0m: Feature shape mismatch, expected: 57, got 67"
          ]
        }
      ]
    },
    {
      "cell_type": "code",
      "source": [
        "print(y_pred)\n",
        "print(df_predecir['CLOSURE'])"
      ],
      "metadata": {
        "id": "xhc15dWaeyxj"
      },
      "execution_count": null,
      "outputs": []
    }
  ]
}